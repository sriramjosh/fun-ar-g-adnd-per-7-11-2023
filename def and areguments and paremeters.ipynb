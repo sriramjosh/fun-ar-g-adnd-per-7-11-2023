{
 "cells": [
  {
   "cell_type": "markdown",
   "id": "32363058",
   "metadata": {},
   "source": [
    "## function\n",
    "###  what is function\n",
    "1 ,its a block of code excudes a discards task,a function calles a numbers of times insted of writing 2, the code excute the code.\n",
    "3, they are two types of creating the function,define the funtion calling the function>\n",
    "4, syntax def func_name(parmeter|s):"
   ]
  },
  {
   "cell_type": "markdown",
   "id": "02e88dbf",
   "metadata": {},
   "source": [
    "#### parameter:\n",
    "1. the artical explans different types of function in python>\n",
    "2. the function explaned are in build in functions user defined function recusire function,a function is a block of code in python that performs perticular codE."
   ]
  },
  {
   "cell_type": "code",
   "execution_count": 2,
   "id": "5a49e8c7",
   "metadata": {},
   "outputs": [],
   "source": [
    "def joshi(a,b):\n",
    "    print(a+b)"
   ]
  },
  {
   "cell_type": "code",
   "execution_count": 3,
   "id": "f25cc0d0",
   "metadata": {},
   "outputs": [
    {
     "name": "stdout",
     "output_type": "stream",
     "text": [
      "5\n"
     ]
    }
   ],
   "source": [
    "joshi(2,3)"
   ]
  },
  {
   "cell_type": "markdown",
   "id": "599b8173",
   "metadata": {},
   "source": [
    "#### parameter:\n",
    "1. the artical explans different types of function in python>\n",
    "2. the function explaned are in build in functions user defined function recusire function,a function is a block of code in python that performs perticular cod"
   ]
  },
  {
   "cell_type": "code",
   "execution_count": 4,
   "id": "1bca0765",
   "metadata": {},
   "outputs": [],
   "source": [
    "def joshi(a,b,c):\n",
    "    print(a+b*c)"
   ]
  },
  {
   "cell_type": "markdown",
   "id": "a59ed813",
   "metadata": {},
   "source": [
    "### Arguments:\n",
    "Information can be passed into functions as arguments.\n",
    "Arguments are specified after the function name, inside the parentheses.\n",
    "You can add as many arguments as you want, just separate them with a comma.\n",
    "Python supports 3 types of arguments:\n",
    "Positional Arguments.\n",
    "Keyword Arguments.\n",
    "Default Arguments.\n",
    "Positional Arguments:-\n",
    "Positional arguments in Python are the most common type of function arguments. They are matched to function parameters in the order in which they are passed. The position (order) of the arguments matters because the function uses this order to assign values to its parameters."
   ]
  },
  {
   "cell_type": "code",
   "execution_count": 5,
   "id": "6fb87ecb",
   "metadata": {},
   "outputs": [
    {
     "name": "stdout",
     "output_type": "stream",
     "text": [
      "9\n"
     ]
    }
   ],
   "source": [
    "joshi(a=1,b=2,c=4) #arguments"
   ]
  },
  {
   "cell_type": "code",
   "execution_count": null,
   "id": "2a15e340",
   "metadata": {},
   "outputs": [],
   "source": []
  }
 ],
 "metadata": {
  "kernelspec": {
   "display_name": "Python 3 (ipykernel)",
   "language": "python",
   "name": "python3"
  },
  "language_info": {
   "codemirror_mode": {
    "name": "ipython",
    "version": 3
   },
   "file_extension": ".py",
   "mimetype": "text/x-python",
   "name": "python",
   "nbconvert_exporter": "python",
   "pygments_lexer": "ipython3",
   "version": "3.11.5"
  }
 },
 "nbformat": 4,
 "nbformat_minor": 5
}
